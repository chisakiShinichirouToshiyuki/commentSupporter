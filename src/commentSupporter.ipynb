{
 "cells": [
  {
   "attachments": {},
   "cell_type": "markdown",
   "metadata": {},
   "source": [
    "# Setup"
   ]
  },
  {
   "cell_type": "code",
   "execution_count": 1,
   "metadata": {},
   "outputs": [],
   "source": [
    "import os\n",
    "import importlib\n",
    "\n",
    "def is_running_on_colab():\n",
    "    return 'COLAB_GPU' in os.environ\n",
    "\n",
    "if importlib.util.find_spec('yt-dlp') is None:\n",
    "    !pip install yt-dlp\n",
    "\n",
    "if importlib.util.find_spec('openai') is None:\n",
    "    !pip install openai\n",
    "\n",
    "if is_running_on_colab():\n",
    "    !git clone -b feature/addUi https://github.com/chisakiShinichirouToshiyuki/commentSupporter.git\n",
    "\n",
    "\n",
    "# OSS\n",
    "from concurrent.futures import ProcessPoolExecutor\n",
    "from IPython.display import clear_output\n",
    "from threading import Thread\n",
    "from typing import TYPE_CHECKING\n",
    "import getpass\n",
    "\n",
    "\n",
    "# 独自モジュール\n",
    "if TYPE_CHECKING or not is_running_on_colab():\n",
    "    from my_package.data_formatter import DataFormatter\n",
    "    from my_package.live_chat_downloader import LiveChatDownloader\n",
    "    from my_package.analyzer_ui import AnalyzerUi\n",
    "    from my_package.gpt_handler import チャットGPTハンドラークラス\n",
    "    from my_package.main_process import main_process\n",
    "else:\n",
    "    from commentSupporter.src.my_package.data_formatter import DataFormatter\n",
    "    from commentSupporter.src.my_package.live_chat_downloader import LiveChatDownloader\n",
    "    from commentSupporter.src.my_package.analyzer_ui import AnalyzerUi\n",
    "    from commentSupporter.src.my_package.gpt_handler import チャットGPTハンドラークラス\n",
    "    from commentSupporter.src.my_package.main_process import main_process\n",
    "\n",
    "clear_output()"
   ]
  },
  {
   "attachments": {},
   "cell_type": "markdown",
   "metadata": {},
   "source": [
    "# Youtube live のURLの設定"
   ]
  },
  {
   "cell_type": "code",
   "execution_count": 2,
   "metadata": {},
   "outputs": [],
   "source": [
    "youtube_live_url = input(\"YoutubeのURLを入力してください: \")\n"
   ]
  },
  {
   "attachments": {},
   "cell_type": "markdown",
   "metadata": {},
   "source": [
    "# chatGPTをプログラムから使用する鍵の設定\n",
    "1. openAIのアカウントを取得\n",
    "2. API key（chatGPTをプログラムから使用する鍵）の <a href=\"https://platform.openai.com/account/api-keys\" target=\"_blank\">設定ページ</a>にいき、下記[+ Create new secret key]ボタンで生成したkeyを取得<br>\n",
    "   (無料枠で、クレジット登録なしで18$分もらえます)<br>\n",
    "<img src=\"../asset/api_key_setting.png\" alt=\"API key設定ページ\" width=\"900\" >  \n",
    "<br>\n",
    "3. 使いすぎ防止のため、API使用量の上限を設定しましょう。 <a href=\"https://platform.openai.com/account/billing/limits\" target=\"_blank\">上限設定ページ</a>にいき、下記「Hard Limit」「Soft Limit」を設定しましょう。<br>\n",
    "  (クレジット登録なしの無料枠だと、設定不可かも)<br>\n",
    "<img src=\"../asset/api_key_limit_setting.png\" alt=\"API上限設定ページ\" width=\"900\" >\n"
   ]
  },
  {
   "cell_type": "code",
   "execution_count": null,
   "metadata": {},
   "outputs": [],
   "source": [
    "api_key = getpass.getpass(\"chatGPTを利用する方は、API keyを自己責任で入力してください。: \")\n",
    "split_url = youtube_live_url.split('https://www.youtube.com/watch?v=')\n",
    "assert split_url[0] == ''\n",
    "live_id:str = split_url[1]"
   ]
  },
  {
   "attachments": {},
   "cell_type": "markdown",
   "metadata": {},
   "source": [
    "# Promptの設定"
   ]
  },
  {
   "cell_type": "code",
   "execution_count": 3,
   "metadata": {},
   "outputs": [],
   "source": [
    "チャットGPTハンドラー:チャットGPTハンドラークラス = チャットGPTハンドラークラス(api_key, \"あなたはコメント分析の専門家です\")\n",
    "チャットGPTハンドラー.ユーザーメッセージの追加(\n",
    "    \"\"\"\n",
    "        次の一連のコメントから、コメント主の特徴を一言で分析してください。\n",
    "        「昨日はラーメン食べた」\n",
    "        「今日はパスタ食べた」\n",
    "        「明日はうどん食う」\n",
    "    \"\"\")\n",
    "チャットGPTハンドラー.chatGPT返信の追加(\"麺好き\")\n",
    "チャットGPTハンドラー.ユーザーメッセージの追加(\n",
    "    \"\"\"\n",
    "        素晴らしい。\n",
    "        次の一連のコメントから、コメント主の特徴を一言で分析してください。\n",
    "        「昨日カレー食べた」\n",
    "        「今日はカレーグラタン食べた」\n",
    "        「明日はカレーうどん食う」\n",
    "    \"\"\")\n",
    "チャットGPTハンドラー.chatGPT返信の追加(\"カレー好き\")\n",
    "チャットGPTハンドラー.ユーザーメッセージの追加(\n",
    "    \"\"\"\n",
    "        素晴らしい。次の一連のコメントから、コメント主の特徴を一言で分析してください。\n",
    "    \"\"\")"
   ]
  },
  {
   "attachments": {},
   "cell_type": "markdown",
   "metadata": {},
   "source": [
    "# チャット分析\n",
    "### 下記に、チャットとその分析結果が表示されます（初回のチャットが分析されるまで、数十秒かかる場合があります）\n",
    "<br>\n",
    "<img src=\"../asset/ui_explain.png\" alt=\"ui_explain\" width=\"900\" >  "
   ]
  },
  {
   "cell_type": "code",
   "execution_count": 4,
   "metadata": {},
   "outputs": [
    {
     "data": {
      "application/vnd.jupyter.widget-view+json": {
       "model_id": "4eeb4f57a8cf4e0a83a10fd0d4472e30",
       "version_major": 2,
       "version_minor": 0
      },
      "text/plain": [
       "HBox(children=(VBox(children=(SelectMultiple(layout=Layout(height='532px', width='auto'), options=('ロード中です：ロード…"
      ]
     },
     "metadata": {},
     "output_type": "display_data"
    },
    {
     "name": "stdout",
     "output_type": "stream",
     "text": [
      "[]\n",
      "[Errno 2] No such file or directory: './pFDBZimxVPY_.live_chat.json.part'\n",
      "[download]    1.29MiB at    598.97B/s (00:00:52) (frag 7)"
     ]
    }
   ],
   "source": [
    "main_process(live_id, チャットGPTハンドラー)"
   ]
  }
 ],
 "metadata": {
  "kernelspec": {
   "display_name": "Python 3",
   "language": "python",
   "name": "python3"
  },
  "language_info": {
   "codemirror_mode": {
    "name": "ipython",
    "version": 3
   },
   "file_extension": ".py",
   "mimetype": "text/x-python",
   "name": "python",
   "nbconvert_exporter": "python",
   "pygments_lexer": "ipython3",
   "version": "3.10.6"
  },
  "orig_nbformat": 4
 },
 "nbformat": 4,
 "nbformat_minor": 2
}
