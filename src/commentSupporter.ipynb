{
 "cells": [
  {
   "attachments": {},
   "cell_type": "markdown",
   "metadata": {},
   "source": [
    "# Setup"
   ]
  },
  {
   "cell_type": "code",
   "execution_count": null,
   "metadata": {},
   "outputs": [],
   "source": [
    "import os\n",
    "\n",
    "def is_running_on_colab():\n",
    "    return 'COLAB_GPU' in os.environ\n",
    "\n",
    "if is_running_on_colab():\n",
    "    \"!git clone -b feature/addUi https://github.com/chisakiShinichirouToshiyuki/commentSupporter.git\\n\",\n",
    "\n",
    "\n",
    "# OSS\n",
    "from concurrent.futures import ProcessPoolExecutor\n",
    "from IPython.display import display\n",
    "from threading import Thread\n",
    "from typing import Dict\n",
    "from typing import List\n",
    "from typing import TYPE_CHECKING\n",
    "from typing import TypedDict\n",
    "import getpass\n",
    "import ipywidgets as widgets\n",
    "import json\n",
    "\n",
    "\n",
    "# 独自モジュール\n",
    "if TYPE_CHECKING or not is_running_on_colab():\n",
    "    from my_package.data_formatter import DataFormatter\n",
    "    from my_package.live_chat_downloader import LiveChatDownloader\n",
    "    from my_package.analyzer_ui import AnalyzerUi\n",
    "    from my_package.gpt_handler import チャットGPTハンドラークラス\n",
    "else:\n",
    "    from commentSupporter.src.my_package.data_formatter import DataFormatter\n",
    "    from commentSupporter.src.my_package.live_chat_downloader import LiveChatDownloader\n",
    "    from commentSupporter.src.my_package.analyzer_ui import AnalyzerUi\n",
    "    from commentSupporter.src.my_package.gpt_handler import チャットGPTハンドラークラス\n"
   ]
  },
  {
   "cell_type": "code",
   "execution_count": null,
   "metadata": {},
   "outputs": [],
   "source": [
    "youtube_live_url = input(\"YoutubeのURLを入力してください: \")\n",
    "api_key = getpass.getpass(\"chatGPTを利用する方は、API keyを自己責任で入力してください。: \")\n",
    "split_url = youtube_live_url.split('https://www.youtube.com/watch?v=')\n",
    "assert split_url[0] == ''\n",
    "live_id:str = split_url[1]"
   ]
  },
  {
   "attachments": {},
   "cell_type": "markdown",
   "metadata": {},
   "source": [
    "# Promptの設定"
   ]
  },
  {
   "cell_type": "code",
   "execution_count": null,
   "metadata": {},
   "outputs": [],
   "source": [
    "チャットGPTハンドラー:チャットGPTハンドラークラス = チャットGPTハンドラークラス(api_key, \"あなたはコメント分析の専門家です\")\n",
    "チャットGPTハンドラー.ユーザーメッセージの追加(\n",
    "    \"\"\"\n",
    "        次の一連のコメントから、コメント主の特徴を一言で分析してください。\n",
    "        「昨日はラーメン食べた」\n",
    "        「今日はパスタ食べた」\n",
    "        「明日はうどん食う」\n",
    "    \"\"\")\n",
    "チャットGPTハンドラー.chatGPT返信の追加(\"麺好き\")\n",
    "チャットGPTハンドラー.ユーザーメッセージの追加(\n",
    "    \"\"\"\n",
    "        素晴らしい。\n",
    "        次の一連のコメントから、コメント主の特徴を一言で分析してください。\n",
    "        「昨日カレー食べた」\n",
    "        「今日はカレーグラタン食べた」\n",
    "        「明日はカレーうどん食う」\n",
    "    \"\"\")\n",
    "チャットGPTハンドラー.chatGPT返信の追加(\"カレー好き\")\n",
    "チャットGPTハンドラー.ユーザーメッセージの追加(\n",
    "    \"\"\"\n",
    "        素晴らしい。次の一連のコメントから、コメント主の特徴を一言で分析してください。\n",
    "    \"\"\")"
   ]
  },
  {
   "attachments": {},
   "cell_type": "markdown",
   "metadata": {},
   "source": [
    "# 中略"
   ]
  },
  {
   "cell_type": "code",
   "execution_count": null,
   "metadata": {},
   "outputs": [],
   "source": [
    "def main(live_id: str):\n",
    "    AnalyzerUi(チャットGPTハンドラー, live_id)\n",
    "\n",
    "    # プロセスを作成\n",
    "    executor = ProcessPoolExecutor(max_workers=2)\n",
    "\n",
    "    # プロセスを開始（別スレッドで実行）\n",
    "    data_formatter = DataFormatter(live_id, チャットGPTハンドラー)\n",
    "    live_chat_downloader = LiveChatDownloader(live_id)\n",
    "\n",
    "    t1 = Thread(target=lambda: executor.submit(data_formatter.replace_watch_comment))\n",
    "    t1.start()\n",
    "\n",
    "    t2 = Thread(target=lambda: executor.submit(live_chat_downloader.get_chat))\n",
    "    t2.start()\n"
   ]
  },
  {
   "attachments": {},
   "cell_type": "markdown",
   "metadata": {},
   "source": [
    "# 下記に、チャットとその分析結果が表示されます\n",
    "## 初回のチャットが分析されるまで、数十秒かかる場合があります"
   ]
  },
  {
   "cell_type": "code",
   "execution_count": null,
   "metadata": {},
   "outputs": [],
   "source": [
    "main(live_id)"
   ]
  }
 ],
 "metadata": {
  "kernelspec": {
   "display_name": "Python 3",
   "language": "python",
   "name": "python3"
  },
  "language_info": {
   "codemirror_mode": {
    "name": "ipython",
    "version": 3
   },
   "file_extension": ".py",
   "mimetype": "text/x-python",
   "name": "python",
   "nbconvert_exporter": "python",
   "pygments_lexer": "ipython3",
   "version": "3.10.6"
  },
  "orig_nbformat": 4
 },
 "nbformat": 4,
 "nbformat_minor": 2
}
