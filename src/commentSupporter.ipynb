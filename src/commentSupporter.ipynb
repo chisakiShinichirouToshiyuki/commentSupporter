{
 "cells": [
  {
   "attachments": {},
   "cell_type": "markdown",
   "metadata": {},
   "source": [
    "# Setup"
   ]
  },
  {
   "cell_type": "code",
   "execution_count": null,
   "metadata": {},
   "outputs": [],
   "source": [
    "!pip install yt-dlp\n",
    "\n",
    "from concurrent.futures import ProcessPoolExecutor\n",
    "from multiprocessing import Manager\n",
    "from display import replace_watch_comment\n",
    "from getChat import get_chat\n",
    "from IPython.display import clear_output\n",
    "from datetime import datetime, timedelta, timezone\n"
   ]
  },
  {
   "cell_type": "code",
   "execution_count": null,
   "metadata": {},
   "outputs": [],
   "source": [
    "import getpass\n",
    "url = input(\"YoutubeのURLを入力してください: \")\n",
    "api_key = getpass.getpass(\"chatGPTを利用する方は、API keyを自己責任で入力してください。: \")\n",
    "split_url = url.split('https://www.youtube.com/watch?v=')\n",
    "assert split_url[0] == ''\n",
    "live_id = split_url[1]"
   ]
  },
  {
   "attachments": {},
   "cell_type": "markdown",
   "metadata": {},
   "source": [
    "# Promptの設定"
   ]
  },
  {
   "cell_type": "code",
   "execution_count": null,
   "metadata": {},
   "outputs": [],
   "source": [
    "prompt_setting = {\n",
    "    'model': \"gpt-3.5-turbo\",\n",
    "    'messages': [\n",
    "        {\n",
    "            \"role\": \"system\",\n",
    "            \"content\": \"あなたはコメント分析の専門家です\"\n",
    "        },\n",
    "        {\n",
    "            \"role\": \"user\",\n",
    "            \"content\": \"\"\"\n",
    "                次の一連のコメントから、コメント主の特徴を一言で分析してください。\n",
    "                「昨日はラーメン食べた」\n",
    "                「今日はパスタ食べた」\n",
    "                「明日はうどん食う」\n",
    "            \"\"\"\n",
    "        },\n",
    "        {\n",
    "            \"role\": \"assistant\",\n",
    "            \"content\": \"麺好き\"\n",
    "        },\n",
    "        {\"role\": \"user\",\n",
    "            \"content\": \"\"\"\n",
    "                素晴らしい。\n",
    "                次の一連のコメントから、コメント主の特徴を一言で分析してください。\n",
    "                「昨日カレー食べた」\n",
    "                「今日はカレーグラタン食べた」\n",
    "                「明日はカレーうどん食う」\n",
    "            \"\"\"\n",
    "        },\n",
    "        {\n",
    "            \"role\": \"assistant\",\n",
    "            \"content\": \"カレー好き\"\n",
    "        },\n",
    "        {\n",
    "            \"role\": \"user\",\n",
    "            \"content\":  (\n",
    "                \"素晴らしい。次の一連のコメントから、コメント主の特徴を一言で分析してください。\"\n",
    "            )\n",
    "        },\n",
    "    ],\n",
    "    'temperature': 1 \n",
    "}\n"
   ]
  },
  {
   "attachments": {},
   "cell_type": "markdown",
   "metadata": {},
   "source": [
    "# 中略"
   ]
  },
  {
   "cell_type": "code",
   "execution_count": null,
   "metadata": {},
   "outputs": [],
   "source": [
    "def main(live_id:str):\n",
    "    with Manager() as manager:\n",
    "        queue = manager.Queue()\n",
    "        with ProcessPoolExecutor(max_workers=2) as executor:\n",
    "            future_1 = executor.submit(replace_watch_comment, queue, live_id, api_key,prompt_setting)\n",
    "            future_2 = executor.submit(get_chat, live_id)\n",
    "            while True:\n",
    "                message = queue.get()\n",
    "                if message != '':\n",
    "                    clear_output()\n",
    "                    print(message)\n",
    "                elif message == 'DONE':\n",
    "                    break\n",
    "                    \n",
    "            future_1.result()\n",
    "            future_2.result()\n",
    "\n"
   ]
  },
  {
   "attachments": {},
   "cell_type": "markdown",
   "metadata": {},
   "source": [
    "# 下記に、チャットとその分析結果が表示されます\n",
    "## 初回のチャットが分析されるまで、数十秒かかる場合があります"
   ]
  },
  {
   "cell_type": "code",
   "execution_count": null,
   "metadata": {},
   "outputs": [],
   "source": [
    "main(live_id)"
   ]
  }
 ],
 "metadata": {
  "kernelspec": {
   "display_name": "Python 3",
   "language": "python",
   "name": "python3"
  },
  "language_info": {
   "codemirror_mode": {
    "name": "ipython",
    "version": 3
   },
   "file_extension": ".py",
   "mimetype": "text/x-python",
   "name": "python",
   "nbconvert_exporter": "python",
   "pygments_lexer": "ipython3",
   "version": "3.10.6"
  },
  "orig_nbformat": 4
 },
 "nbformat": 4,
 "nbformat_minor": 2
}
