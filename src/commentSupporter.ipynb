{
 "cells": [
  {
   "attachments": {},
   "cell_type": "markdown",
   "metadata": {},
   "source": [
    "# Setup"
   ]
  },
  {
   "cell_type": "code",
   "execution_count": 1,
   "metadata": {},
   "outputs": [],
   "source": [
    "# !pip install yt-dlp\n",
    "# !pip install ipywidgets\n",
    "\n",
    "from concurrent.futures import ProcessPoolExecutor\n",
    "# from display import replace_watch_comment\n",
    "from display2 import ui_test\n",
    "# from ui_test import replace_watch_comment\n",
    "from get_chat import get_chat\n",
    "from GptHandler import チャットGPTハンドラークラス\n",
    "from IPython.display import clear_output\n",
    "from multiprocessing import Manager\n",
    "from ui_test import ui_test\n",
    "import time\n"
   ]
  },
  {
   "cell_type": "code",
   "execution_count": 2,
   "metadata": {},
   "outputs": [],
   "source": [
    "import getpass\n",
    "url = input(\"YoutubeのURLを入力してください: \")\n",
    "api_key = getpass.getpass(\"chatGPTを利用する方は、API keyを自己責任で入力してください。: \")\n",
    "split_url = url.split('https://www.youtube.com/watch?v=')\n",
    "assert split_url[0] == ''\n",
    "live_id = split_url[1]"
   ]
  },
  {
   "attachments": {},
   "cell_type": "markdown",
   "metadata": {},
   "source": [
    "# Promptの設定"
   ]
  },
  {
   "cell_type": "code",
   "execution_count": 3,
   "metadata": {},
   "outputs": [],
   "source": [
    "チャットGPTハンドラー = チャットGPTハンドラークラス(api_key, \"あなたはコメント分析の専門家です\")\n",
    "チャットGPTハンドラー.ユーザーメッセージの追加(\n",
    "    \"\"\"\n",
    "        次の一連のコメントから、コメント主の特徴を一言で分析してください。\n",
    "        「昨日はラーメン食べた」\n",
    "        「今日はパスタ食べた」\n",
    "        「明日はうどん食う」\n",
    "    \"\"\")\n",
    "チャットGPTハンドラー.chatGPT返信の追加(\"麺好き\")\n",
    "チャットGPTハンドラー.ユーザーメッセージの追加(\n",
    "    \"\"\"\n",
    "        素晴らしい。\n",
    "        次の一連のコメントから、コメント主の特徴を一言で分析してください。\n",
    "        「昨日カレー食べた」\n",
    "        「今日はカレーグラタン食べた」\n",
    "        「明日はカレーうどん食う」\n",
    "    \"\"\")\n",
    "チャットGPTハンドラー.chatGPT返信の追加(\"カレー好き\")\n",
    "チャットGPTハンドラー.ユーザーメッセージの追加(\n",
    "    \"\"\"\n",
    "        素晴らしい。次の一連のコメントから、コメント主の特徴を一言で分析してください。\n",
    "    \"\"\")"
   ]
  },
  {
   "attachments": {},
   "cell_type": "markdown",
   "metadata": {},
   "source": [
    "# 中略"
   ]
  },
  {
   "cell_type": "code",
   "execution_count": 4,
   "metadata": {},
   "outputs": [],
   "source": [
    "def main(live_id:str,button):\n",
    "    with Manager() as manager:\n",
    "        queue = manager.Queue()\n",
    "        with ProcessPoolExecutor(max_workers=3) as executor:\n",
    "            # future_1 = executor.submit(replace_watch_comment, queue, live_id, チャットGPTハンドラー)\n",
    "            # # future_2 = executor.submit(get_chat, live_id)\n",
    "            future_3 = executor.submit(ui_test,queue,'')\n",
    "            while True:\n",
    "                message = queue.get()\n",
    "                if message != '':\n",
    "                    # clear_output()\n",
    "                    print(message)\n",
    "                    for i in range(10, 0, -1):\n",
    "                        time.sleep(1)  # 1秒待つ\n",
    "                        button.description = f\"{i}秒以内に押せ\"\n",
    "                elif message == 'DONE':\n",
    "                    break\n",
    "                    \n",
    "            # future_1.result()\n",
    "            # future_2.result()\n",
    "            future_3.result()\n",
    "\n"
   ]
  },
  {
   "attachments": {},
   "cell_type": "markdown",
   "metadata": {},
   "source": [
    "# 下記に、チャットとその分析結果が表示されます\n",
    "## 初回のチャットが分析されるまで、数十秒かかる場合があります"
   ]
  },
  {
   "cell_type": "code",
   "execution_count": 5,
   "metadata": {},
   "outputs": [
    {
     "data": {
      "application/vnd.jupyter.widget-view+json": {
       "model_id": "e615556573b34f2bb2098d7d19efe40a",
       "version_major": 2,
       "version_minor": 0
      },
      "text/plain": [
       "Button(description='10秒以内に押せ', style=ButtonStyle())"
      ]
     },
     "metadata": {},
     "output_type": "display_data"
    },
    {
     "name": "stdout",
     "output_type": "stream",
     "text": [
      "test\n"
     ]
    },
    {
     "ename": "KeyboardInterrupt",
     "evalue": "",
     "output_type": "error",
     "traceback": [
      "\u001b[0;31m---------------------------------------------------------------------------\u001b[0m",
      "\u001b[0;31mKeyboardInterrupt\u001b[0m                         Traceback (most recent call last)",
      "Cell \u001b[0;32mIn[5], line 17\u001b[0m\n\u001b[1;32m     10\u001b[0m     \u001b[39mprint\u001b[39m(\u001b[39m\"\u001b[39m\u001b[39mButton clicked.\u001b[39m\u001b[39m\"\u001b[39m)\n\u001b[1;32m     12\u001b[0m button\u001b[39m.\u001b[39mon_click(on_button_clicked)\n\u001b[0;32m---> 17\u001b[0m main(live_id,button)\n",
      "Cell \u001b[0;32mIn[4], line 9\u001b[0m, in \u001b[0;36mmain\u001b[0;34m(live_id, button)\u001b[0m\n\u001b[1;32m      7\u001b[0m future_3 \u001b[39m=\u001b[39m executor\u001b[39m.\u001b[39msubmit(ui_test,queue,\u001b[39m'\u001b[39m\u001b[39m'\u001b[39m)\n\u001b[1;32m      8\u001b[0m \u001b[39mwhile\u001b[39;00m \u001b[39mTrue\u001b[39;00m:\n\u001b[0;32m----> 9\u001b[0m     message \u001b[39m=\u001b[39m queue\u001b[39m.\u001b[39;49mget()\n\u001b[1;32m     10\u001b[0m     \u001b[39mif\u001b[39;00m message \u001b[39m!=\u001b[39m \u001b[39m'\u001b[39m\u001b[39m'\u001b[39m:\n\u001b[1;32m     11\u001b[0m         \u001b[39m# clear_output()\u001b[39;00m\n\u001b[1;32m     12\u001b[0m         \u001b[39mprint\u001b[39m(message)\n",
      "File \u001b[0;32m<string>:2\u001b[0m, in \u001b[0;36mget\u001b[0;34m(self, *args, **kwds)\u001b[0m\n",
      "File \u001b[0;32m~/.pyenv/versions/3.10.6/lib/python3.10/multiprocessing/managers.py:818\u001b[0m, in \u001b[0;36mBaseProxy._callmethod\u001b[0;34m(self, methodname, args, kwds)\u001b[0m\n\u001b[1;32m    815\u001b[0m     conn \u001b[39m=\u001b[39m \u001b[39mself\u001b[39m\u001b[39m.\u001b[39m_tls\u001b[39m.\u001b[39mconnection\n\u001b[1;32m    817\u001b[0m conn\u001b[39m.\u001b[39msend((\u001b[39mself\u001b[39m\u001b[39m.\u001b[39m_id, methodname, args, kwds))\n\u001b[0;32m--> 818\u001b[0m kind, result \u001b[39m=\u001b[39m conn\u001b[39m.\u001b[39;49mrecv()\n\u001b[1;32m    820\u001b[0m \u001b[39mif\u001b[39;00m kind \u001b[39m==\u001b[39m \u001b[39m'\u001b[39m\u001b[39m#RETURN\u001b[39m\u001b[39m'\u001b[39m:\n\u001b[1;32m    821\u001b[0m     \u001b[39mreturn\u001b[39;00m result\n",
      "File \u001b[0;32m~/.pyenv/versions/3.10.6/lib/python3.10/multiprocessing/connection.py:255\u001b[0m, in \u001b[0;36m_ConnectionBase.recv\u001b[0;34m(self)\u001b[0m\n\u001b[1;32m    253\u001b[0m \u001b[39mself\u001b[39m\u001b[39m.\u001b[39m_check_closed()\n\u001b[1;32m    254\u001b[0m \u001b[39mself\u001b[39m\u001b[39m.\u001b[39m_check_readable()\n\u001b[0;32m--> 255\u001b[0m buf \u001b[39m=\u001b[39m \u001b[39mself\u001b[39;49m\u001b[39m.\u001b[39;49m_recv_bytes()\n\u001b[1;32m    256\u001b[0m \u001b[39mreturn\u001b[39;00m _ForkingPickler\u001b[39m.\u001b[39mloads(buf\u001b[39m.\u001b[39mgetbuffer())\n",
      "File \u001b[0;32m~/.pyenv/versions/3.10.6/lib/python3.10/multiprocessing/connection.py:419\u001b[0m, in \u001b[0;36mConnection._recv_bytes\u001b[0;34m(self, maxsize)\u001b[0m\n\u001b[1;32m    418\u001b[0m \u001b[39mdef\u001b[39;00m \u001b[39m_recv_bytes\u001b[39m(\u001b[39mself\u001b[39m, maxsize\u001b[39m=\u001b[39m\u001b[39mNone\u001b[39;00m):\n\u001b[0;32m--> 419\u001b[0m     buf \u001b[39m=\u001b[39m \u001b[39mself\u001b[39;49m\u001b[39m.\u001b[39;49m_recv(\u001b[39m4\u001b[39;49m)\n\u001b[1;32m    420\u001b[0m     size, \u001b[39m=\u001b[39m struct\u001b[39m.\u001b[39munpack(\u001b[39m\"\u001b[39m\u001b[39m!i\u001b[39m\u001b[39m\"\u001b[39m, buf\u001b[39m.\u001b[39mgetvalue())\n\u001b[1;32m    421\u001b[0m     \u001b[39mif\u001b[39;00m size \u001b[39m==\u001b[39m \u001b[39m-\u001b[39m\u001b[39m1\u001b[39m:\n",
      "File \u001b[0;32m~/.pyenv/versions/3.10.6/lib/python3.10/multiprocessing/connection.py:384\u001b[0m, in \u001b[0;36mConnection._recv\u001b[0;34m(self, size, read)\u001b[0m\n\u001b[1;32m    382\u001b[0m remaining \u001b[39m=\u001b[39m size\n\u001b[1;32m    383\u001b[0m \u001b[39mwhile\u001b[39;00m remaining \u001b[39m>\u001b[39m \u001b[39m0\u001b[39m:\n\u001b[0;32m--> 384\u001b[0m     chunk \u001b[39m=\u001b[39m read(handle, remaining)\n\u001b[1;32m    385\u001b[0m     n \u001b[39m=\u001b[39m \u001b[39mlen\u001b[39m(chunk)\n\u001b[1;32m    386\u001b[0m     \u001b[39mif\u001b[39;00m n \u001b[39m==\u001b[39m \u001b[39m0\u001b[39m:\n",
      "\u001b[0;31mKeyboardInterrupt\u001b[0m: "
     ]
    }
   ],
   "source": [
    "import time\n",
    "import ipywidgets as widgets\n",
    "from IPython.display import display\n",
    "\n",
    "# ボタンの作成\n",
    "button = widgets.Button(description=\"10秒以内に押せ\")\n",
    "display(button)\n",
    "\n",
    "def on_button_clicked(b):\n",
    "    print(\"Button clicked.\")\n",
    "\n",
    "button.on_click(on_button_clicked)\n",
    "\n",
    "\n",
    "\n",
    "\n",
    "main(live_id,button)"
   ]
  },
  {
   "cell_type": "code",
   "execution_count": 19,
   "metadata": {},
   "outputs": [
    {
     "data": {
      "application/vnd.jupyter.widget-view+json": {
       "model_id": "49b72107fe994ccea58ca0218ec2e2dc",
       "version_major": 2,
       "version_minor": 0
      },
      "text/plain": [
       "HBox(children=(VBox(children=(SelectMultiple(layout=Layout(height='580px', width='auto'), options=('もうすぐスクロール端…"
      ]
     },
     "metadata": {},
     "output_type": "display_data"
    }
   ],
   "source": [
    "import ipywidgets as widgets\n",
    "from IPython.display import display\n",
    "\n",
    "list1: list[str]\n",
    "select1: widgets.SelectMultiple\n",
    "list2:  list[str]\n",
    "select2: widgets.SelectMultiple\n",
    "title2  : widgets.Label\n",
    "\n",
    "# クリックイベントのハンドラー\n",
    "def update_list(change):\n",
    "    global list1\n",
    "    global list2 \n",
    "    global select1 \n",
    "    global select2 \n",
    "    global title2  # \n",
    "    if change['new']:\n",
    "        # \"addList\"を10回list1に追加\n",
    "        list1.extend([f\"addList{_}\" for _ in range(10)])\n",
    "        list1 = list1[-50:]\n",
    "        scroll_end_message = [f\"もうすぐスクロール端です：{i}\" for i in range(5)]\n",
    "        list_all = scroll_end_message + list1 + scroll_end_message[::-1]\n",
    "        # select1のoptionsを更新\n",
    "        select1.options = list_all\n",
    "        # print('Selected item:', change['new'])\n",
    "        title2.value = 'Selected item: ' + ', '.join(change['new'])\n",
    "\n",
    "def analyze(change):\n",
    "    global list1\n",
    "    global list2 \n",
    "    global select1 \n",
    "    global select2 \n",
    "    global title2  # \n",
    "    if change['new']:\n",
    "        # \"addList\"を10回list1に追加\n",
    "        list1.extend([f\"addList{_}\" for _ in range(10)])\n",
    "        list1 = list1[-50:]\n",
    "        scroll_end_message = [f\"もうすぐスクロール端です：{i}\" for i in range(5)]\n",
    "        list_all = scroll_end_message + list1 + scroll_end_message[::-1]\n",
    "        # select1のoptionsを更新\n",
    "        select1.options = list_all\n",
    "        # print('Selected item:', change['new'])\n",
    "        title2.value = 'Selected item: ' + ', '.join(change['new'])\n",
    "\n",
    "def set_ui():\n",
    "    # リストの内容\n",
    "    global list1\n",
    "    global list2 \n",
    "    global select1 \n",
    "    global select2 \n",
    "    global title2 \n",
    "    list1 = [f'item{i+1}' for i in range(50)]\n",
    "    list2 = [f'item{i+1}' for i in range(50, 81)]\n",
    "\n",
    "    # スクロール端メッセージの追加\n",
    "    scroll_end_message = [f\"もうすぐスクロール端です：{i}\" for i in range(5)] if 30< len(list2) else [] \n",
    "    list1_all = scroll_end_message + list1 + scroll_end_message[::-1]\n",
    "    list2_all = scroll_end_message + list2 + scroll_end_message[::-1]\n",
    "\n",
    "    # SelectMultiple widgetsの作成\n",
    "    select1 = widgets.SelectMultiple(\n",
    "        options=list1_all,\n",
    "        description='',  # リストタイトルを非表示\n",
    "        layout=widgets.Layout(width='auto', height='580px', overflow_y='auto')  # スクロールを追加\n",
    "    )\n",
    "\n",
    "    select2 = widgets.SelectMultiple(\n",
    "        options=list2_all,\n",
    "        layout=widgets.Layout(width='auto', height='500px', overflow_y='auto')  # スクロールを追加\n",
    "    )\n",
    "\n",
    "\n",
    "    # イベントハンドラーの追加\n",
    "    select1.observe(update_list, 'value')\n",
    "\n",
    "    # タイトルウィジェットの作成\n",
    "    title2 = widgets.Label(\n",
    "        value='List 2', \n",
    "        layout=widgets.Layout(width='auto')\n",
    "    )\n",
    "\n",
    "    # フッターウィジェットの作成\n",
    "    footer2 = widgets.Label(\n",
    "        value='Info: This is a footer', \n",
    "        layout=widgets.Layout(width='auto')\n",
    "    )\n",
    "\n",
    "    # 右側のカラムを作成（タイトル、リスト、フッターを含む）\n",
    "    right_column = widgets.VBox([title2, select2, footer2], layout=widgets.Layout(width='50%', overflow='auto'))\n",
    "\n",
    "    # 左側のカラムを作成（リストのみ）\n",
    "    left_column = widgets.VBox([select1], layout=widgets.Layout(width='50%', overflow='auto'))\n",
    "\n",
    "    # 2カラムのレイアウトを作成\n",
    "    two_columns = widgets.HBox([left_column, right_column], layout=widgets.Layout(width='100%', overflow='auto'))\n",
    "\n",
    "    display(two_columns)\n",
    "\n",
    "set_ui()"
   ]
  },
  {
   "cell_type": "code",
   "execution_count": null,
   "metadata": {},
   "outputs": [],
   "source": []
  }
 ],
 "metadata": {
  "kernelspec": {
   "display_name": "Python 3",
   "language": "python",
   "name": "python3"
  },
  "language_info": {
   "codemirror_mode": {
    "name": "ipython",
    "version": 3
   },
   "file_extension": ".py",
   "mimetype": "text/x-python",
   "name": "python",
   "nbconvert_exporter": "python",
   "pygments_lexer": "ipython3",
   "version": "3.10.6"
  },
  "orig_nbformat": 4
 },
 "nbformat": 4,
 "nbformat_minor": 2
}
