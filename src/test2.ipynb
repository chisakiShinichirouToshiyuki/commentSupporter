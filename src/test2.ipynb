{
 "cells": [
  {
   "cell_type": "code",
   "execution_count": 1,
   "metadata": {},
   "outputs": [
    {
     "data": {
      "application/vnd.jupyter.widget-view+json": {
       "model_id": "f2b44c12400b4f3680074b74732d983e",
       "version_major": 2,
       "version_minor": 0
      },
      "text/plain": [
       "VBox(children=(Button(description='Print File Content', style=ButtonStyle()), Output()))"
      ]
     },
     "metadata": {},
     "output_type": "display_data"
    }
   ],
   "source": [
    "import os\n",
    "from worker_file import worker\n",
    "from ipywidgets import Button, Output, VBox\n",
    "import IPython.display as display\n",
    "from concurrent.futures import ProcessPoolExecutor\n",
    "from threading import Thread\n",
    "import time\n",
    "\n",
    "# 各ファイルの内容を表示する関数\n",
    "def print_file_content(button):\n",
    "    output.clear_output()  # 以前の出力をクリア\n",
    "    with output:\n",
    "        for file_name in [\"file1.txt\", \"file2.txt\"]:\n",
    "            print(f\"--- Contents of {file_name} ---\")\n",
    "            if os.path.isfile(file_name):\n",
    "                with open(file_name, \"r\") as f:\n",
    "                    print(f.read())\n",
    "            else:\n",
    "                print(\"File not ready yet\")\n",
    "\n",
    "# ボタンを作成\n",
    "output = Output()\n",
    "print_button = Button(description=\"Print File Content\")\n",
    "\n",
    "# ボタンがクリックされたときに実行する関数を設定\n",
    "print_button.on_click(print_file_content)\n",
    "\n",
    "# プロセスを作成\n",
    "executor = ProcessPoolExecutor(max_workers=2)\n",
    "# プロセスを開始（別スレッドで実行）\n",
    "t = Thread(target=lambda: list(executor.map(worker, [\"file1.txt\", \"file2.txt\"])))\n",
    "t.start()\n",
    "\n",
    "# ボタンと出力エリアを表示\n",
    "display.display(VBox([print_button, output]))\n"
   ]
  },
  {
   "cell_type": "code",
   "execution_count": 1,
   "metadata": {},
   "outputs": [
    {
     "data": {
      "application/vnd.jupyter.widget-view+json": {
       "model_id": "bf7b454856234cac96ae0a9bb1c2dd1c",
       "version_major": 2,
       "version_minor": 0
      },
      "text/plain": [
       "VBox(children=(Button(description='Print File Content', style=ButtonStyle()), Output()))"
      ]
     },
     "metadata": {},
     "output_type": "display_data"
    }
   ],
   "source": [
    "import os\n",
    "from worker_file import worker as worker1\n",
    "from worker_file_modified import worker as worker2\n",
    "from ipywidgets import Button, Output, VBox\n",
    "import IPython.display as display\n",
    "from concurrent.futures import ProcessPoolExecutor\n",
    "from threading import Thread\n",
    "import time\n",
    "\n",
    "# 各ファイルの内容を表示する関数\n",
    "def print_file_content(button):\n",
    "    output.clear_output()  # 以前の出力をクリア\n",
    "    with output:\n",
    "        for file_name in [\"file1.txt\", \"file3.txt\"]:\n",
    "            print(f\"--- Contents of {file_name} ---\")\n",
    "            if os.path.isfile(file_name):\n",
    "                with open(file_name, \"r\") as f:\n",
    "                    print(f.read())\n",
    "            else:\n",
    "                print(\"File not ready yet\")\n",
    "\n",
    "# ボタンを作成\n",
    "output = Output()\n",
    "print_button = Button(description=\"Print File Content\")\n",
    "\n",
    "# ボタンがクリックされたときに実行する関数を設定\n",
    "print_button.on_click(print_file_content)\n",
    "\n",
    "# プロセスを作成\n",
    "executor = ProcessPoolExecutor(max_workers=4)  # より多くのワーカーを設定\n",
    "\n",
    "# プロセスを開始（別スレッドで実行）\n",
    "t1 = Thread(target=lambda: list(executor.map(worker1, [\"file1.txt\", \"file2.txt\"])))\n",
    "t1.start()\n",
    "\n",
    "t2 = Thread(target=lambda: list(executor.map(worker2, [\"file3.txt\", \"file4.txt\"])))\n",
    "t2.start()\n",
    "\n",
    "# ボタンと出力エリアを表示\n",
    "display.display(VBox([print_button, output]))\n"
   ]
  }
 ],
 "metadata": {
  "kernelspec": {
   "display_name": "Python 3",
   "language": "python",
   "name": "python3"
  },
  "language_info": {
   "codemirror_mode": {
    "name": "ipython",
    "version": 3
   },
   "file_extension": ".py",
   "mimetype": "text/x-python",
   "name": "python",
   "nbconvert_exporter": "python",
   "pygments_lexer": "ipython3",
   "version": "3.10.6"
  },
  "orig_nbformat": 4
 },
 "nbformat": 4,
 "nbformat_minor": 2
}
